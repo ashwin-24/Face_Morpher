{
 "cells": [
  {
   "cell_type": "code",
   "execution_count": 1,
   "metadata": {},
   "outputs": [],
   "source": [
    "import cv2\n",
    "import numpy as np\n",
    "from PIL import Image\n",
    "import dlib"
   ]
  },
  {
   "cell_type": "code",
   "execution_count": 2,
   "metadata": {},
   "outputs": [],
   "source": [
    "detector = dlib.get_frontal_face_detector()\n",
    "predictor = dlib.shape_predictor('shape_predictor_5_face_landmarks.dat')"
   ]
  },
  {
   "cell_type": "code",
   "execution_count": 3,
   "metadata": {},
   "outputs": [],
   "source": [
    "img = cv2.imread('ma_img.jpg')"
   ]
  },
  {
   "cell_type": "code",
   "execution_count": 4,
   "metadata": {},
   "outputs": [],
   "source": [
    "gray = cv2.cvtColor(img, cv2.COLOR_BGR2GRAY)\n",
    "rects = detector(gray, 0)\n",
    "if len(rects) > 0:\n",
    "    for rect in rects:\n",
    "        x = rect.left()\n",
    "        y = rect.top()\n",
    "        w = rect.right()\n",
    "        h = rect.bottom()\n",
    "        shape = predictor(gray, rect)"
   ]
  },
  {
   "cell_type": "code",
   "execution_count": 5,
   "metadata": {},
   "outputs": [],
   "source": [
    "def shape_to_normal(shape):\n",
    "    shape_normal = []\n",
    "    for i in range(0, 5):\n",
    "        shape_normal.append((i, (shape.part(i).x, shape.part(i).y)))\n",
    "    return shape_normal\n",
    "def get_eyes_nose_dlib(shape):\n",
    "    nose = shape[4][1]\n",
    "    left_eye_x = int(shape[3][1][0] + shape[2][1][0]) // 2\n",
    "    left_eye_y = int(shape[3][1][1] + shape[2][1][1]) // 2\n",
    "    right_eyes_x = int(shape[1][1][0] + shape[0][1][0]) // 2\n",
    "    right_eyes_y = int(shape[1][1][1] + shape[0][1][1]) // 2\n",
    "    return nose, (left_eye_x, left_eye_y), (right_eyes_x, right_eyes_y)"
   ]
  },
  {
   "cell_type": "code",
   "execution_count": 6,
   "metadata": {},
   "outputs": [],
   "source": [
    "shape = shape_to_normal(shape)\n",
    "nose, left_eye, right_eye = get_eyes_nose_dlib(shape)"
   ]
  },
  {
   "cell_type": "code",
   "execution_count": 7,
   "metadata": {},
   "outputs": [],
   "source": [
    "center_of_forehead = ((left_eye[0] + right_eye[0]) // 2, (left_eye[1] + right_eye[1]) // 2)\n",
    "center_pred = (int((x + w) / 2), int((y + y) / 2))\n",
    "def distance(a, b):\n",
    "    return np.sqrt((a[0] - b[0]) ** 2 + (a[1] - b[1]) ** 2)"
   ]
  },
  {
   "cell_type": "code",
   "execution_count": 8,
   "metadata": {},
   "outputs": [],
   "source": [
    "length_line1 = distance(center_of_forehead, nose)\n",
    "length_line2 = distance(center_pred, nose)\n",
    "length_line3 = distance(center_pred, center_of_forehead)"
   ]
  },
  {
   "cell_type": "code",
   "execution_count": 9,
   "metadata": {},
   "outputs": [],
   "source": [
    "def cosine_formula(length_line1, length_line2, length_line3):\n",
    "    cos_a = -(length_line3 ** 2 - length_line2 ** 2 - length_line1 ** 2) / (2 * length_line2 * length_line1)\n",
    "    return cos_a"
   ]
  },
  {
   "cell_type": "code",
   "execution_count": 10,
   "metadata": {},
   "outputs": [],
   "source": [
    "cos_a = cosine_formula(length_line1, length_line2, length_line3)\n",
    "angle = np.arccos(cos_a)"
   ]
  },
  {
   "cell_type": "code",
   "execution_count": 11,
   "metadata": {},
   "outputs": [],
   "source": [
    "def rotate_point(origin, point, angle):\n",
    "    ox, oy = origin\n",
    "    px, py = point\n",
    "\n",
    "    qx = ox + np.cos(angle) * (px - ox) - np.sin(angle) * (py - oy)\n",
    "    qy = oy + np.sin(angle) * (px - ox) + np.cos(angle) * (py - oy)\n",
    "    return qx, qy\n",
    "\n",
    "\n",
    "def is_between(point1, point2, point3, extra_point):\n",
    "    c1 = (point2[0] - point1[0]) * (extra_point[1] - point1[1]) - (point2[1] - point1[1]) * (extra_point[0] - point1[0])\n",
    "    c2 = (point3[0] - point2[0]) * (extra_point[1] - point2[1]) - (point3[1] - point2[1]) * (extra_point[0] - point2[0])\n",
    "    c3 = (point1[0] - point3[0]) * (extra_point[1] - point3[1]) - (point1[1] - point3[1]) * (extra_point[0] - point3[0])\n",
    "    if (c1 < 0 and c2 < 0 and c3 < 0) or (c1 > 0 and c2 > 0 and c3 > 0):\n",
    "        return True\n",
    "    else:\n",
    "        return False"
   ]
  },
  {
   "cell_type": "code",
   "execution_count": 12,
   "metadata": {},
   "outputs": [],
   "source": [
    "rotated_point = rotate_point(nose, center_of_forehead, angle)\n",
    "rotated_point = (int(rotated_point[0]), int(rotated_point[1]))\n",
    "if is_between(nose, center_of_forehead, center_pred, rotated_point):\n",
    "    angle = np.degrees(-angle)\n",
    "else:\n",
    "    angle = np.degrees(angle)"
   ]
  },
  {
   "cell_type": "code",
   "execution_count": 13,
   "metadata": {},
   "outputs": [],
   "source": [
    "img = Image.fromarray(img)\n",
    "img = np.array(img.rotate(angle))"
   ]
  },
  {
   "cell_type": "code",
   "execution_count": 14,
   "metadata": {},
   "outputs": [
    {
     "data": {
      "text/plain": [
       "<function destroyAllWindows>"
      ]
     },
     "execution_count": 14,
     "metadata": {},
     "output_type": "execute_result"
    }
   ],
   "source": [
    "cv2.imwrite('a_img', img)"
   ]
  }
 ],
 "metadata": {
  "kernelspec": {
   "display_name": "Python 3",
   "language": "python",
   "name": "python3"
  },
  "language_info": {
   "codemirror_mode": {
    "name": "ipython",
    "version": 3
   },
   "file_extension": ".py",
   "mimetype": "text/x-python",
   "name": "python",
   "nbconvert_exporter": "python",
   "pygments_lexer": "ipython3",
   "version": "3.8.5"
  }
 },
 "nbformat": 4,
 "nbformat_minor": 4
}
