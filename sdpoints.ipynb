{
 "cells": [
  {
   "cell_type": "code",
   "execution_count": 1,
   "metadata": {},
   "outputs": [],
   "source": [
    "def sdpoints(e1x,e1y,e2x,e2y,x0,y0,m):\n",
    "    alpha=m[0][0]\n",
    "    beta =m[1][0]\n",
    "    a=x0+(alpha*e1x)+(beta*e2x)\n",
    "    b=y0+(alpha*e1y)+(beta*e2y)\n",
    "    a=round(a)\n",
    "    b=round(b)\n",
    "    a=int(a)\n",
    "    b=int(b)\n",
    "    return a,b"
   ]
  },
  {
   "cell_type": "code",
   "execution_count": null,
   "metadata": {},
   "outputs": [],
   "source": []
  }
 ],
 "metadata": {
  "kernelspec": {
   "display_name": "Python 3",
   "language": "python",
   "name": "python3"
  },
  "language_info": {
   "codemirror_mode": {
    "name": "ipython",
    "version": 3
   },
   "file_extension": ".py",
   "mimetype": "text/x-python",
   "name": "python",
   "nbconvert_exporter": "python",
   "pygments_lexer": "ipython3",
   "version": "3.8.5"
  }
 },
 "nbformat": 4,
 "nbformat_minor": 4
}
