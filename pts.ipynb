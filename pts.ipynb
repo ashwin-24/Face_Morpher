{
 "cells": [
  {
   "cell_type": "code",
   "execution_count": 1,
   "metadata": {},
   "outputs": [],
   "source": [
    "import numpy as np\n",
    "import cv2\n",
    "import matplotlib.pyplot as plt"
   ]
  },
  {
   "cell_type": "code",
   "execution_count": 2,
   "metadata": {},
   "outputs": [],
   "source": [
    "posListx = []\n",
    "posListy = []"
   ]
  },
  {
   "cell_type": "code",
   "execution_count": 3,
   "metadata": {},
   "outputs": [],
   "source": [
    "def myPts(image):\n",
    "    def onMouse(event, x, y, flags, param):\n",
    "        global posListx, posListy\n",
    "        \n",
    "        if event == cv2.EVENT_LBUTTONDOWN:            \n",
    "            posListx.append(x)\n",
    "            posListy.append(y)\n",
    "    \n",
    "    cv2.namedWindow('image')\n",
    "    cv2.setMouseCallback('image',onMouse)\n",
    "\n",
    "    while(1):\n",
    "        cv2.imshow(\"image\",image)\n",
    "        k = cv2.waitKey(20) & 0xFF\n",
    "        if k == 27:\n",
    "            return [],[]\n",
    "            break\n",
    "        elif k == ord('a'):\n",
    "            cv2.destroyAllWindows()\n",
    "            return posListx, posListy"
   ]
  },
  {
   "cell_type": "code",
   "execution_count": null,
   "metadata": {},
   "outputs": [],
   "source": [
    "if __name__ == \"__main__\":\n",
    "    srcimg = cv2.imread('images/src_a_img.jpg')                       \n",
    "    desimg = cv2.imread('tcruz.jpg')                        \n",
    "\n",
    "\n",
    "    srcimg1 = cv2.resize(srcimg,(500,500))\n",
    "    desimg2 = cv2.resize(desimg,(500,500))"
   ]
  }
 ],
 "metadata": {
  "kernelspec": {
   "display_name": "Python 3",
   "language": "python",
   "name": "python3"
  },
  "language_info": {
   "codemirror_mode": {
    "name": "ipython",
    "version": 3
   },
   "file_extension": ".py",
   "mimetype": "text/x-python",
   "name": "python",
   "nbconvert_exporter": "python",
   "pygments_lexer": "ipython3",
   "version": "3.8.5"
  }
 },
 "nbformat": 4,
 "nbformat_minor": 4
}
